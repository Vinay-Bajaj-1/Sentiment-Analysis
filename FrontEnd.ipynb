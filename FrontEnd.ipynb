{
 "cells": [
  {
   "cell_type": "code",
   "execution_count": 26,
   "id": "d19bb8e3",
   "metadata": {},
   "outputs": [],
   "source": [
    "import joblib\n",
    "import streamlit as st\n",
    "\n",
    "#loading model and count_vector\n",
    "def load_svc():\n",
    "    loaded_model = joblib.load(\"C:\\\\Users\\\\Vinay\\\\Sentiment Analysis\\\\best_svc_model.pkl\")\n",
    "    return loaded_model\n",
    "\n",
    "def load_count_vector():\n",
    "    loaded_model = joblib.load(\"C:\\\\Users\\\\Vinay\\\\Sentiment Analysis\\\\count_vectorizer.pkl\")\n",
    "    return loaded_model\n",
    "\n",
    "st.title(\"**Welcome to Text Sentiment Analysis**\")\n",
    "\n",
    "# Load the model\n",
    "svc_model = load_svc()\n",
    "vect = load_count_vector()\n",
    "\n",
    "# User input\n",
    "user_input = st.text_input(\"Enter text: \")\n",
    "\n",
    "if user_input:\n",
    "    # Make predictions using the loaded model\n",
    "    res = vect.transform([user_input])\n",
    "\n",
    "    prediction = svc_model.predict(res)\n",
    "    st.write(\"Sentiment of Text is :\", prediction)"
   ]
  },
  {
   "cell_type": "code",
   "execution_count": null,
   "id": "235242c9",
   "metadata": {},
   "outputs": [],
   "source": []
  }
 ],
 "metadata": {
  "kernelspec": {
   "display_name": "Python 3 (ipykernel)",
   "language": "python",
   "name": "python3"
  },
  "language_info": {
   "codemirror_mode": {
    "name": "ipython",
    "version": 3
   },
   "file_extension": ".py",
   "mimetype": "text/x-python",
   "name": "python",
   "nbconvert_exporter": "python",
   "pygments_lexer": "ipython3",
   "version": "3.11.4"
  }
 },
 "nbformat": 4,
 "nbformat_minor": 5
}
